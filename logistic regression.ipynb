{
 "cells": [
  {
   "cell_type": "code",
   "execution_count": 59,
   "id": "f40571af",
   "metadata": {},
   "outputs": [],
   "source": [
    "import numpy as np\n",
    "import pandas as pd\n",
    "import matplotlib.pyplot as plt\n",
    "import copy\n",
    "import math\n",
    "\n",
    "%matplotlib inline"
   ]
  },
  {
   "cell_type": "code",
   "execution_count": 60,
   "id": "2c298b0d",
   "metadata": {},
   "outputs": [
    {
     "name": "stdout",
     "output_type": "stream",
     "text": [
      "    age  Acoustic  Classical  Dance  HipHop  Jazz\n",
      "0    20         0          0      0       1     0\n",
      "1    23         0          0      0       1     0\n",
      "2    25         0          0      0       1     0\n",
      "3    26         0          0      0       0     1\n",
      "4    29         0          0      0       0     1\n",
      "5    30         0          0      0       0     1\n",
      "6    31         0          1      0       0     0\n",
      "7    33         0          1      0       0     0\n",
      "8    37         0          1      0       0     0\n",
      "9    20         0          0      1       0     0\n",
      "10   21         0          0      1       0     0\n",
      "11   25         0          0      1       0     0\n",
      "12   26         1          0      0       0     0\n",
      "13   27         1          0      0       0     0\n",
      "14   30         1          0      0       0     0\n",
      "15   31         0          1      0       0     0\n",
      "16   34         0          1      0       0     0\n",
      "17   35         0          1      0       0     0\n",
      "18   21         0          0      0       0     1\n",
      "19   22         0          0      0       0     1\n",
      "20   24         0          0      0       0     1\n",
      "21   27         0          0      0       1     0\n",
      "22   28         0          0      0       1     0\n",
      "23   32         0          0      0       1     0\n",
      "24   23         0          0      1       0     0\n",
      "25   26         0          0      1       0     0\n",
      "26   28         0          0      1       0     0\n",
      "27   29         0          0      0       1     0\n",
      "28   32         0          0      0       1     0\n",
      "29   35         0          0      0       1     0\n",
      "30   26         0          0      0       0     1\n",
      "31   28         0          0      0       0     1\n",
      "32   31         0          0      0       0     1\n",
      "33   25         1          0      0       0     0\n",
      "34   28         1          0      0       0     0\n",
      "35   31         1          0      0       0     0\n",
      "36   33         0          1      0       0     0\n",
      "37   35         0          1      0       0     0\n",
      "38   38         0          1      0       0     0\n",
      "39   20         0          0      0       1     0\n",
      "40   22         0          0      0       1     0\n",
      "41   24         0          0      0       1     0\n",
      "42   29         1          0      0       0     0\n",
      "43   31         1          0      0       0     0\n",
      "44   33         1          0      0       0     0\n",
      "45   36         0          0      0       0     1\n",
      "46   38         0          0      0       0     1\n",
      "47   41         0          0      0       0     1\n",
      "48   27         0          0      1       0     0\n",
      "49   29         0          0      1       0     0\n",
      "50   32         0          0      1       0     0\n",
      "51   24         0          0      0       0     1\n",
      "52   26         0          0      0       0     1\n",
      "53   29         0          0      0       0     1\n",
      "54   32         0          0      0       1     0\n",
      "55   34         0          0      0       1     0\n",
      "56   37         0          0      0       1     0\n"
     ]
    }
   ],
   "source": [
    "data = pd.read_csv('music.csv')\n",
    "X = data[['age','genre']]\n",
    "y = data['gender']\n",
    "genre_encoded = pd.get_dummies(X[\"genre\"])\n",
    "X = pd.concat([X, genre_encoded], axis = 1)\n",
    "X = X.drop(\"genre\",axis = 1)\n",
    "print(X)\n"
   ]
  },
  {
   "cell_type": "code",
   "execution_count": 61,
   "id": "dbb82c47",
   "metadata": {},
   "outputs": [
    {
     "name": "stdout",
     "output_type": "stream",
     "text": [
      "[[20  0  0  0  1  0]\n",
      " [23  0  0  0  1  0]\n",
      " [25  0  0  0  1  0]\n",
      " [26  0  0  0  0  1]\n",
      " [29  0  0  0  0  1]\n",
      " [30  0  0  0  0  1]\n",
      " [31  0  1  0  0  0]\n",
      " [33  0  1  0  0  0]\n",
      " [37  0  1  0  0  0]\n",
      " [20  0  0  1  0  0]\n",
      " [21  0  0  1  0  0]\n",
      " [25  0  0  1  0  0]\n",
      " [26  1  0  0  0  0]\n",
      " [27  1  0  0  0  0]\n",
      " [30  1  0  0  0  0]\n",
      " [31  0  1  0  0  0]\n",
      " [34  0  1  0  0  0]\n",
      " [35  0  1  0  0  0]\n",
      " [21  0  0  0  0  1]\n",
      " [22  0  0  0  0  1]\n",
      " [24  0  0  0  0  1]\n",
      " [27  0  0  0  1  0]\n",
      " [28  0  0  0  1  0]\n",
      " [32  0  0  0  1  0]\n",
      " [23  0  0  1  0  0]\n",
      " [26  0  0  1  0  0]\n",
      " [28  0  0  1  0  0]\n",
      " [29  0  0  0  1  0]\n",
      " [32  0  0  0  1  0]\n",
      " [35  0  0  0  1  0]\n",
      " [26  0  0  0  0  1]\n",
      " [28  0  0  0  0  1]\n",
      " [31  0  0  0  0  1]\n",
      " [25  1  0  0  0  0]\n",
      " [28  1  0  0  0  0]\n",
      " [31  1  0  0  0  0]\n",
      " [33  0  1  0  0  0]\n",
      " [35  0  1  0  0  0]\n",
      " [38  0  1  0  0  0]\n",
      " [20  0  0  0  1  0]\n",
      " [22  0  0  0  1  0]\n",
      " [24  0  0  0  1  0]\n",
      " [29  1  0  0  0  0]\n",
      " [31  1  0  0  0  0]\n",
      " [33  1  0  0  0  0]\n",
      " [36  0  0  0  0  1]\n",
      " [38  0  0  0  0  1]\n",
      " [41  0  0  0  0  1]\n",
      " [27  0  0  1  0  0]\n",
      " [29  0  0  1  0  0]\n",
      " [32  0  0  1  0  0]\n",
      " [24  0  0  0  0  1]\n",
      " [26  0  0  0  0  1]\n",
      " [29  0  0  0  0  1]\n",
      " [32  0  0  0  1  0]\n",
      " [34  0  0  0  1  0]\n",
      " [37  0  0  0  1  0]]\n",
      "[1 1 1 1 1 1 1 1 1 0 0 0 0 0 0 0 0 0 1 1 1 1 1 1 0 0 0 1 1 1 1 1 1 0 0 0 0\n",
      " 0 0 1 1 1 0 0 0 1 1 1 0 0 0 1 1 1 0 0 0]\n"
     ]
    }
   ],
   "source": [
    "X_train = np.array(X)\n",
    "y_train = np.array(y)\n",
    "print(X_train)\n",
    "print(y_train)"
   ]
  },
  {
   "cell_type": "code",
   "execution_count": 62,
   "id": "aa68c5cb",
   "metadata": {},
   "outputs": [
    {
     "data": {
      "image/png": "[encoded data removed]",
      "text/plain": [
       "<Figure size 640x480 with 1 Axes>"
      ]
     },
     "metadata": {},
     "output_type": "display_data"
    }
   ],
   "source": [
    "import matplotlib.pyplot as plt\n",
    "\n",
    "# Create separate arrays for male and female data points\n",
    "male_data = data[data[\"gender\"] == 1]\n",
    "female_data = data[data[\"gender\"] == 0]\n",
    "\n",
    "# Create a scatter plot of male and female data points\n",
    "plt.scatter(male_data[\"age\"], male_data[\"genre\"], c=\"blue\", alpha=0.5, label=\"Male\")\n",
    "plt.scatter(female_data[\"age\"], female_data[\"genre\"], c=\"red\", alpha=0.5, label=\"Female\")\n",
    "\n",
    "# Add axis labels and a title\n",
    "plt.xlabel(\"Age\")\n",
    "plt.ylabel(\"Genre\")\n",
    "plt.title(\"Gender by Age and Music Genre\")\n",
    "\n",
    "# Add a legend\n",
    "plt.legend()\n",
    "\n",
    "# Display the plot\n",
    "plt.show()\n",
    "\n"
   ]
  },
  {
   "cell_type": "code",
   "execution_count": 63,
   "id": "f929a1e6",
   "metadata": {},
   "outputs": [],
   "source": [
    "def sigmoid(z):\n",
    "    g = 1 / (1 + np.exp(-np.clip(z, -500, 500)))\n",
    "    return g"
   ]
  },
  {
   "cell_type": "code",
   "execution_count": 64,
   "id": "a2f7ee12",
   "metadata": {},
   "outputs": [],
   "source": [
    "def compute_cost(X,y,w,b,*argv):\n",
    "    m,n = X.shape\n",
    "    loss = 0\n",
    "    for i in range(m):\n",
    "        z_wb = np.dot(X[i],w) + b\n",
    "        f_wb_i = sigmoid(z_wb)\n",
    "        epsilon = 1e-8\n",
    "        f_wb_i = np.clip(f_wb_i, epsilon, 1 - epsilon) # Clip probability values to be within [epsilon, 1-e\n",
    "        loss += -y[i] * np.log(f_wb_i) - (1-y[i]) * np.log(1-f_wb_i)\n",
    "    total_cost = (1/m) * loss\n",
    "    return total_cost\n",
    "        "
   ]
  },
  {
   "cell_type": "code",
   "execution_count": 65,
   "id": "f4a941e6",
   "metadata": {},
   "outputs": [],
   "source": [
    "def compute_gradient(X,y,w,b):\n",
    "    dj_dw = np.zeros(w.shape)\n",
    "    dj_db = 0\n",
    "    m,n = X.shape\n",
    "    for i in range(m):\n",
    "        z_wb = np.dot(X[i],w) + b\n",
    "        f_wb_i = sigmoid(z_wb)\n",
    "        err_i = (f_wb_i - y[i])\n",
    "        dj_db += err_i \n",
    "        for j in range(n):\n",
    "            dj_dw[j] += err_i * X[i,j]\n",
    "    dj_dw = (1/m) * dj_dw\n",
    "    dj_db = (1/m) * dj_db\n",
    "    \n",
    "    return dj_db,dj_dw"
   ]
  },
  {
   "cell_type": "code",
   "execution_count": 66,
   "id": "ed54ec74",
   "metadata": {},
   "outputs": [
    {
     "name": "stdout",
     "output_type": "stream",
     "text": [
      "dj_db at test w and b: -0.26445684323789465\n",
      "dj_dw at test w and b: [-5.756630024543172, 0.01840137914922824, 0.062365608060075364, 0.008011226099103534, -0.14850629598805423, -0.20472876055824762]\n"
     ]
    }
   ],
   "source": [
    "# Compute and display cost and gradient with non-zero w and b\n",
    "test_w = np.random.rand(6,)\n",
    "test_b = -24\n",
    "dj_db, dj_dw  = compute_gradient(X_train, y_train, test_w, test_b)\n",
    "\n",
    "print('dj_db at test w and b:', dj_db)\n",
    "print('dj_dw at test w and b:', dj_dw.tolist())\n"
   ]
  },
  {
   "cell_type": "code",
   "execution_count": 67,
   "id": "48db10f5",
   "metadata": {},
   "outputs": [],
   "source": [
    "def gradient_descent(X,y,w_in,b_in,cost_function,gradient_function,alpha,num_iters):\n",
    "    m = len(X)\n",
    "    \n",
    "    J_history = []\n",
    "    w_history = []\n",
    "    \n",
    "    for i in range(num_iters):\n",
    "        dj_db,dj_dw = gradient_function(X,y,w_in,b_in)\n",
    "        \n",
    "        w_in = w_in - alpha * dj_dw\n",
    "        b_in = b_in - alpha * dj_db\n",
    "        \n",
    "        if i<100000:\n",
    "            cost = cost_function(X,y,w_in,b_in)\n",
    "            J_history.append(cost)\n",
    "            \n",
    "        # Print cost every at intervals 10 times or as many iterations if < 10\n",
    "        if i% math.ceil(num_iters/10) == 0 or i == (num_iters-1):\n",
    "            w_history.append(w_in)\n",
    "            print(f\"Iteration {i:4}: Cost {float(J_history[-1]):8.2f}   \")\n",
    "            \n",
    "    return w_in,b_in,J_history,w_history\n",
    "        "
   ]
  },
  {
   "cell_type": "code",
   "execution_count": 70,
   "id": "e6fce089",
   "metadata": {},
   "outputs": [
    {
     "name": "stdout",
     "output_type": "stream",
     "text": [
      "Iteration    0: Cost     4.00   \n",
      "Iteration 10000: Cost     0.67   \n",
      "Iteration 20000: Cost     0.52   \n",
      "Iteration 30000: Cost     0.45   \n",
      "Iteration 40000: Cost     0.41   \n",
      "Iteration 50000: Cost     0.38   \n",
      "Iteration 60000: Cost     0.36   \n",
      "Iteration 70000: Cost     0.35   \n",
      "Iteration 80000: Cost     0.34   \n",
      "Iteration 90000: Cost     0.33   \n",
      "Iteration 99999: Cost     0.32   \n",
      "[ 0.13307414 -2.02449343 -0.49776553 -1.62539685  2.74597559  4.3118631 ] -5.077435781692511\n"
     ]
    }
   ],
   "source": [
    "np.random.seed(1)\n",
    "initial_w = 0.01 * (np.random.rand(6) - 0.5)\n",
    "initial_b = -8\n",
    "\n",
    "# Some gradient descent settings\n",
    "iterations = 100000\n",
    "alpha = 0.001\n",
    "\n",
    "w,b, J_history,_w = gradient_descent(X_train ,y_train, initial_w, initial_b, \n",
    "                                   compute_cost, compute_gradient, alpha, iterations)\n",
    "print(w,b)"
   ]
  },
  {
   "cell_type": "code",
   "execution_count": null,
   "id": "6f836f1f",
   "metadata": {},
   "outputs": [],
   "source": []
  },
  {
   "cell_type": "code",
   "execution_count": 71,
   "id": "97bf945a",
   "metadata": {},
   "outputs": [],
   "source": [
    "def predict(X, w, b): \n",
    "    \"\"\"\n",
    "    Predict whether the label is 0 or 1 using learned logistic\n",
    "    regression parameters w\n",
    "    \n",
    "    Args:\n",
    "      X : (ndarray Shape (m,n)) data, m examples by n features\n",
    "      w : (ndarray Shape (n,))  values of parameters of the model      \n",
    "      b : (scalar)              value of bias parameter of the model\n",
    "\n",
    "    Returns:\n",
    "      p : (ndarray (m,)) The predictions for X using a threshold at 0.5\n",
    "    \"\"\"\n",
    "    # number of training examples\n",
    "    m, n = X.shape   \n",
    "    p = np.zeros(m)\n",
    "   \n",
    "    ### START CODE HERE ### \n",
    "    # Loop over each example\n",
    "    for i in range(m):   \n",
    "        z_wb = np.dot(X[i],w) + b\n",
    "        f_wb_i = sigmoid(z_wb)\n",
    "        if f_wb_i >= 0.5:\n",
    "            p[i] = 1\n",
    "        else:\n",
    "            p[i] = 0\n",
    "        \n",
    "    ### END CODE HERE ### \n",
    "    return p"
   ]
  },
  {
   "cell_type": "code",
   "execution_count": 72,
   "id": "0f2a8697",
   "metadata": {},
   "outputs": [
    {
     "name": "stdout",
     "output_type": "stream",
     "text": [
      "[1. 1. 1. 1. 1. 1. 0. 0. 0. 0. 0. 0. 0. 0. 0. 0. 0. 0. 1. 1. 1. 1. 1. 1.\n",
      " 0. 0. 0. 1. 1. 1. 1. 1. 1. 0. 0. 0. 0. 0. 0. 1. 1. 1. 0. 0. 0. 1. 1. 1.\n",
      " 0. 0. 0. 1. 1. 1. 1. 1. 1.]\n",
      "[1 1 1 1 1 1 1 1 1 0 0 0 0 0 0 0 0 0 1 1 1 1 1 1 0 0 0 1 1 1 1 1 1 0 0 0 0\n",
      " 0 0 1 1 1 0 0 0 1 1 1 0 0 0 1 1 1 0 0 0]\n",
      "Train Accuracy: 89.473684\n"
     ]
    }
   ],
   "source": [
    "#Compute accuracy on our training set\n",
    "w = np.array([0.13307414,-2.02449343,-0.49776553,-1.62539685,2.74597559,4.3118631])\n",
    "b= -5.077435781692511\n",
    "p = predict(X_train, w,b)\n",
    "print(p)\n",
    "print(y_train)\n",
    "print('Train Accuracy: %f'%(np.mean(p == y_train) * 100))"
   ]
  },
  {
   "cell_type": "code",
   "execution_count": null,
   "id": "71d5ac50",
   "metadata": {},
   "outputs": [],
   "source": []
  },
  {
   "cell_type": "code",
   "execution_count": null,
   "id": "f4cdb350",
   "metadata": {},
   "outputs": [],
   "source": []
  }
 ],
 "metadata": {
  "kernelspec": {
   "display_name": "Python 3 (ipykernel)",
   "language": "python",
   "name": "python3"
  },
  "language_info": {
   "codemirror_mode": {
    "name": "ipython",
    "version": 3
   },
   "file_extension": ".py",
   "mimetype": "text/x-python",
   "name": "python",
   "nbconvert_exporter": "python",
   "pygments_lexer": "ipython3",
   "version": "3.9.13"
  }
 },
 "nbformat": 4,
 "nbformat_minor": 5
}
